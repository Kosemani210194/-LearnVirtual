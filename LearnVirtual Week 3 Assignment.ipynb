{
 "cells": [
  {
   "cell_type": "code",
   "execution_count": null,
   "metadata": {},
   "outputs": [],
   "source": [
    "#A simple program for area of a square\n",
    "\n",
    "L = int(input('Please enter a value: '))\n",
    "\n",
    "Area = L*L\n",
    "\n",
    "print(Area)"
   ]
  },
  {
   "cell_type": "code",
   "execution_count": null,
   "metadata": {},
   "outputs": [],
   "source": [
    "#A program for simple interest in pidgin\n",
    "\n",
    "principal = float(input('Abeg enter the principal amount: '))\n",
    "rate = int(input('Abeg enter rate: '))\n",
    "time = int(input('Na which time you wan use: '))\n",
    "I = (principal * rate * time)/100\n",
    "print(I)\n",
    "print(round(I,3))"
   ]
  },
  {
   "cell_type": "code",
   "execution_count": null,
   "metadata": {},
   "outputs": [],
   "source": [
    "#A simple code on daily activities\n",
    "\n",
    "weekdays = ['Monday', 'Tuesday', 'Wednesday', 'Thursday', 'Friday']\n",
    "weekends = ['Sunday', 'Saturday']\n",
    "day = input('What day is it today?: ')\n",
    "if day in weekdays:\n",
    "    print ('You have some assays to run today, examples are SOD, GST and Catalase')\n",
    "else:\n",
    "    print ('You can take out time to relax today and get prepared for next week')"
   ]
  },
  {
   "cell_type": "code",
   "execution_count": null,
   "metadata": {},
   "outputs": [],
   "source": [
    "#A simple program on restaurant\n",
    "\n",
    "print ('Welcome to ABULA KITCHEN! What would you like to eat today?')\n",
    "name = input('Please enter your name: ')\n",
    "print ('You are most welcome to ABULA KITCHEN', name)\n",
    "print ('Come take a look at our different meals and place your order')\n",
    "menu1 = input('There you go: \\n(a) Amala \\n(b) Eba \\n(c) Fufu \\n(d) Pounded Yam\\n')\n",
    "print ('You can have your food')"
   ]
  },
  {
   "cell_type": "code",
   "execution_count": null,
   "metadata": {},
   "outputs": [],
   "source": [
    "#A simple code for ATM\n",
    "\n",
    "secret_number = 1234\n",
    "name = input('Please enter your name: ')\n",
    "print ('Welcome', name)\n",
    "\n",
    "enter_code = input('Please enter your secret number: ')\n",
    "menu1 = input('\\n(1) Recharge \\n(2) Account balance \\n(3) Withdrawal\\n')\n",
    "\n",
    "balance = 10000\n",
    "withdrawal_Amt = int(input(\"Amount: \"))\n",
    "if withdrawal_Amt > balance:\n",
    "    print ('Insufficient balance')\n",
    "else:\n",
    "    newBalance = balance - withdrawal_Amt\n",
    "    print (\"Account Balance:\" + str(newBalance))"
   ]
  }
 ],
 "metadata": {
  "kernelspec": {
   "display_name": "Python 3",
   "language": "python",
   "name": "python3"
  },
  "language_info": {
   "codemirror_mode": {
    "name": "ipython",
    "version": 3
   },
   "file_extension": ".py",
   "mimetype": "text/x-python",
   "name": "python",
   "nbconvert_exporter": "python",
   "pygments_lexer": "ipython3",
   "version": "3.7.1"
  }
 },
 "nbformat": 4,
 "nbformat_minor": 2
}
